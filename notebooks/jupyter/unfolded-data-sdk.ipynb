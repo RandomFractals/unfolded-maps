{
 "cells": [
  {
   "cell_type": "markdown",
   "metadata": {},
   "source": [
    "# Unfolded Data SDK Notebook\r\n",
    "\r\n",
    "[Ufolded Data SDK](https://docs.unfolded.ai/data-sdk) provides access to your datasets used for maps in [Unfolded Studio](https://studio.unfolded.ai)\r\n",
    "\r\n",
    "1. In order to use Unfolded Data SDK, you need to [obtain Access and Refresh Tokens](https://studio.unfolded.ai/home/tokens).\r\n",
    "2. Install Unfolded Data SDK for Python with pip\r\n",
    "```bash\r\n",
    ">pip install -U unfolded.data-sdk\r\n",
    "```\r\n",
    "3. Save Unfolded Data SDK Refresh Token\r\n",
    "```bash\r\n",
    ">uf-data-sdk store-referesh-token\r\n",
    "```\r\n",
    "\r\n",
    "Then use it to get the list of datasets you uploaded to Unfolded Studio, or to add and update new datasets.\r\n",
    "\r\n",
    "See: https://docs.unfolded.ai/data-sdk/use-with-python"
   ]
  },
  {
   "cell_type": "code",
   "execution_count": 14,
   "metadata": {},
   "outputs": [],
   "source": [
    "import pandas as pd\r\n",
    "from unfolded.data_sdk import DataSDK"
   ]
  },
  {
   "cell_type": "code",
   "execution_count": 15,
   "metadata": {},
   "outputs": [
    {
     "data": {
      "text/html": "<div>\n<style scoped>\n    .dataframe tbody tr th:only-of-type {\n        vertical-align: middle;\n    }\n\n    .dataframe tbody tr th {\n        vertical-align: top;\n    }\n\n    .dataframe thead th {\n        text-align: right;\n    }\n</style>\n<table border=\"1\" class=\"dataframe\">\n  <thead>\n    <tr style=\"text-align: right;\">\n      <th></th>\n      <th>0</th>\n      <th>1</th>\n      <th>2</th>\n      <th>3</th>\n      <th>4</th>\n      <th>5</th>\n    </tr>\n  </thead>\n  <tbody>\n    <tr>\n      <th>0</th>\n      <td>(id, 857ffebc-6adf-4bae-9fcb-1270123e6617)</td>\n      <td>(name, World_Cities.zip:World_Cities.json)</td>\n      <td>(created_at, 2020-10-09 10:22:26+00:00)</td>\n      <td>(updated_at, 2020-10-09 10:22:26+00:00)</td>\n      <td>(description, None)</td>\n      <td>(is_valid, True)</td>\n    </tr>\n    <tr>\n      <th>1</th>\n      <td>(id, a0aa4f02-0c92-48a9-9639-c508a5e487d8)</td>\n      <td>(name, ne_10m_lakes.geojson)</td>\n      <td>(created_at, 2020-10-08 11:16:38+00:00)</td>\n      <td>(updated_at, 2020-10-08 11:16:38+00:00)</td>\n      <td>(description, None)</td>\n      <td>(is_valid, True)</td>\n    </tr>\n    <tr>\n      <th>2</th>\n      <td>(id, c3ee1293-a671-4d3a-808b-1b2949a99926)</td>\n      <td>(name, majorrivers_0_0.zip:MajorRivers.sbn)</td>\n      <td>(created_at, 2020-10-08 10:54:07+00:00)</td>\n      <td>(updated_at, 2020-10-08 10:54:07+00:00)</td>\n      <td>(description, None)</td>\n      <td>(is_valid, False)</td>\n    </tr>\n  </tbody>\n</table>\n</div>",
      "text/plain": "                                            0  \\\n0  (id, 857ffebc-6adf-4bae-9fcb-1270123e6617)   \n1  (id, a0aa4f02-0c92-48a9-9639-c508a5e487d8)   \n2  (id, c3ee1293-a671-4d3a-808b-1b2949a99926)   \n\n                                             1  \\\n0   (name, World_Cities.zip:World_Cities.json)   \n1                 (name, ne_10m_lakes.geojson)   \n2  (name, majorrivers_0_0.zip:MajorRivers.sbn)   \n\n                                         2  \\\n0  (created_at, 2020-10-09 10:22:26+00:00)   \n1  (created_at, 2020-10-08 11:16:38+00:00)   \n2  (created_at, 2020-10-08 10:54:07+00:00)   \n\n                                         3                    4  \\\n0  (updated_at, 2020-10-09 10:22:26+00:00)  (description, None)   \n1  (updated_at, 2020-10-08 11:16:38+00:00)  (description, None)   \n2  (updated_at, 2020-10-08 10:54:07+00:00)  (description, None)   \n\n                   5  \n0   (is_valid, True)  \n1   (is_valid, True)  \n2  (is_valid, False)  "
     },
     "execution_count": 15,
     "metadata": {},
     "output_type": "execute_result"
    }
   ],
   "source": [
    "data_sdk = DataSDK()\r\n",
    "datasets = data_sdk.list_datasets()\r\n",
    "df = pd.DataFrame(data=datasets)\r\n",
    "df.head()"
   ]
  },
  {
   "cell_type": "code",
   "execution_count": null,
   "metadata": {},
   "outputs": [],
   "source": []
  }
 ],
 "metadata": {
  "kernelspec": {
   "display_name": "Python 3.6.5 64-bit (conda)",
   "metadata": {
    "interpreter": {
     "hash": "91f462f30b5a384e63ecd6a90b1788724b19e87ff32bc6a85fd436039d525658"
    }
   },
   "name": "python3"
  },
  "language_info": {
   "codemirror_mode": {
    "name": "ipython",
    "version": 3
   },
   "file_extension": ".py",
   "mimetype": "text/x-python",
   "name": "python",
   "nbconvert_exporter": "python",
   "pygments_lexer": "ipython3",
   "version": "3.6.5"
  },
  "orig_nbformat": 2
 },
 "nbformat": 4,
 "nbformat_minor": 2
}